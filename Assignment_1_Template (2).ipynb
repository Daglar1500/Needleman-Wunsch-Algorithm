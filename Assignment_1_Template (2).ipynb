{
 "cells": [
  {
   "cell_type": "markdown",
   "id": "buried-invention",
   "metadata": {},
   "source": [
    "# CMPE 549: Bioinformatics - Fall 2024\n",
    "\n",
    "## Assignment I: Needleman-Wunsch Pairwise Sequence Alignment \n",
    "\n",
    "**Deadline: 12.11.2024 - 23:59**\n",
    "\n",
    "Please describe your work clearly since this notebook is considered as your report."
   ]
  },
  {
   "cell_type": "markdown",
   "id": "11c0583c-163f-4d7f-96a3-a87bb49248e5",
   "metadata": {},
   "source": [
    "- **Name: Dağlar Eren Tekşen**\n",
    "- **Student ID: 2020400111**"
   ]
  },
  {
   "cell_type": "markdown",
   "id": "424f5c2a-8337-4352-8053-0172c6ea1024",
   "metadata": {},
   "source": [
    "## Part 1 - Your Implementation of the Algorithm\n",
    "\n",
    "In the first part, you will implement the Needleman-Wunsch pairwise sequence alignment algorithm. The algorithm must be implemented with a linear gap penalty. It should take two amino acid sequences, a gap penalty and a scoring matrix as input and should output the maximum alignment score of these sequences and the alignment achieving this maximum score. If there are multiple optimal alignments, the algorithm should output any one of them. For the scoring matrix (match and mismatch), please use the BLOSUM62 scoring matrix."
   ]
  },
  {
   "metadata": {
    "ExecuteTime": {
     "end_time": "2024-11-12T17:38:17.493120Z",
     "start_time": "2024-11-12T17:38:17.484260Z"
    }
   },
   "cell_type": "code",
   "source": [
    "import blosum as blo\n",
    "global matrix\n",
    "matrix = blo.BLOSUM(62)"
   ],
   "id": "20595219f14612d3",
   "outputs": [],
   "execution_count": 13
  },
  {
   "cell_type": "code",
   "id": "32faa530-c8cc-4016-9092-ce8edc47c8bf",
   "metadata": {
    "ExecuteTime": {
     "end_time": "2024-11-12T18:09:56.081658Z",
     "start_time": "2024-11-12T18:09:56.065873Z"
    }
   },
   "source": [
    "def my_needleman_wunsch_algorithm_linear_penalty(sequence_1, sequence_2, gap_penalty, scoring_matrix):\n",
    "    \"\"\"\n",
    "    Implements the Needleman-Wunsch pairwise sequence alignment algorithm with a linear gap penalty.\n",
    "\n",
    "    Parameters:\n",
    "    ----------\n",
    "    sequence_1 : str\n",
    "        The first amino acid sequence to be aligned.\n",
    "    sequence_2 : str\n",
    "        The second amino acid sequence to be aligned.\n",
    "    gap_penalty : int or float\n",
    "        The penalty score for introducing a gap in the alignment. This penalty is constant for each gap introduced.\n",
    "    scoring_matrix : list, dict, numpy array, or similar\n",
    "        A matrix or dictionary containing scores for each possible amino acid pair. The matrix is used to score matches \n",
    "        and mismatches between amino acids.\n",
    "\n",
    "    Returns:\n",
    "    -------\n",
    "    tuple\n",
    "        A tuple containing:\n",
    "            - alignment_score (float): The maximum alignment score between the two sequences based on the given scoring matrix.\n",
    "            - alignment (str): A formatted string representation of the optimal alignment, where:\n",
    "                - Gaps are represented by '-' symbols.\n",
    "                - Matching amino acids are represented by '|' symbols.\n",
    "                - Mismatches are represented by '.' symbols.\n",
    "                \n",
    "\n",
    "    Notes:\n",
    "    -----\n",
    "    - If there are multiple optimal alignments, any one of them may be returned.\n",
    "    - This function follows a global alignment approach to find the best match across the entire length of the input sequences.\n",
    "    - The scoring matrix can be of any format (list, dictionary, numpy array, etc.), as long as it allows scoring each pair \n",
    "      of amino acids.\n",
    "\n",
    "    Example:\n",
    "    --------\n",
    "    input:\n",
    "        sequence_1 = \"PTTEINS\"\n",
    "        sequence_2 = \"PRTWPSEIN\"\n",
    "        gap_penalty = -1\n",
    "        scoring_matrix = ...\n",
    "        \n",
    "    output:\n",
    "        (\n",
    "        24.0,\n",
    "        \"target            0 P-T--TEINS  7\n",
    "                          0 |-|--.|||- 10\n",
    "        query             0 PRTWPSEIN-  9\"\n",
    "        )\n",
    "    \"\"\"\n",
    "    # Initialize the scoring matrix for alignment, with an empty list to hold the scores and pointers\n",
    "    matrix_score = [[]]\n",
    "    \n",
    "    # Set the initial cell (0,0) with a score of 0 and mark it as the start position \"S\"\n",
    "    matrix_score[0].append([0, \"S\"])  # START\n",
    "    \n",
    "    # Fill in the first row with gap penalties for aligning against the first sequence only (insertions)\n",
    "    for i in range(1, len(sequence_1) + 1):\n",
    "        matrix_score[0].append([matrix_score[0][i - 1][0] + gap_penalty, \"I\"])  # INSERTION\n",
    "    \n",
    "    # Fill in the first column with gap penalties for aligning against the second sequence only (deletions)\n",
    "    for j in range(1, len(sequence_2) + 1):\n",
    "        matrix_score.append([[matrix_score[j - 1][0][0] + gap_penalty, \"D\"]])  # DELETION\n",
    "    \n",
    "    # Fill in the rest of the matrix with scores based on match/mismatch and gap penalties\n",
    "    for i in range(1, len(sequence_2) + 1):\n",
    "        for j in range(1, len(sequence_1) + 1):\n",
    "            # Calculate the score for a match or mismatch by adding the substitution matrix score\n",
    "            match = matrix_score[i - 1][j - 1][0] + matrix[sequence_1[j - 1]][sequence_2[i - 1]]\n",
    "            \n",
    "            # Calculate the score if aligning by deletion (moving down in the matrix)\n",
    "            delet = matrix_score[i - 1][j][0] + gap_penalty\n",
    "            \n",
    "            # Calculate the score if aligning by insertion (moving right in the matrix)\n",
    "            inst = matrix_score[i][j - 1][0] + gap_penalty\n",
    "            \n",
    "            # Choose the highest score from match, deletion, and insertion options\n",
    "            values = [match, delet, inst]\n",
    "            max_value = max(values)\n",
    "            \n",
    "            # Determine the source of the highest score to track the alignment path\n",
    "            index_of_max = values.index(max_value)\n",
    "            where = \"blank\"\n",
    "            if index_of_max == 0:\n",
    "                where = \"M\"  # Match/Mismatch\n",
    "            elif index_of_max == 1:\n",
    "                where = \"D\"  # Deletion\n",
    "            elif index_of_max == 2:\n",
    "                where = \"I\"  # Insertion\n",
    "            \n",
    "            # Add the highest score and its origin to the scoring matrix\n",
    "            matrix_score[i].append([max_value, where])\n",
    "    \n",
    "    # Initialize strings to hold the final alignment results\n",
    "    target = \"\"\n",
    "    alignment = \"\"\n",
    "    query = \"\"\n",
    "    \n",
    "    # Start at the bottom-right of the matrix and trace back to build the alignment\n",
    "    i = len(sequence_2)\n",
    "    j = len(sequence_1)\n",
    "    while i >= 1 and j >= 1:\n",
    "        # If the pointer is \"I\", add a gap in the target sequence\n",
    "        if matrix_score[i][j][1] == \"I\":\n",
    "            target = sequence_1[j-1] + target\n",
    "            alignment = \"-\" + alignment\n",
    "            query = \"-\" + query\n",
    "            j -= 1\n",
    "        \n",
    "        # If the pointer is \"D\", add a gap in the query sequence\n",
    "        elif matrix_score[i][j][1] == \"D\":\n",
    "            target = \"-\" + target\n",
    "            alignment = \"-\" + alignment\n",
    "            query = sequence_2[i-1] + query\n",
    "            i -= 1\n",
    "        \n",
    "        # If the pointer is \"M\", add both characters and match/mismatch symbol to alignment\n",
    "        else:\n",
    "            target = sequence_1[j-1] + target\n",
    "            if sequence_1[j-1] == sequence_2[i-1]:\n",
    "                alignment = \"|\" + alignment  # Indicate a match with \"|\"\n",
    "            else:\n",
    "                alignment = \".\" + alignment  # Indicate a mismatch with \".\"\n",
    "            query = sequence_2[i-1] + query\n",
    "            j -= 1\n",
    "            i -= 1\n",
    "    \n",
    "    # Return the final alignment score and the formatted alignment\n",
    "    return (\n",
    "        matrix_score[len(sequence_2)][len(sequence_1)][0],  # Alignment score\n",
    "        f\"target            0 {target} {len(sequence_1)}\\n\"  # Formatted target sequence\n",
    "        f\"                  0 {alignment} {len(alignment)}\\n\"  # Formatted alignment line\n",
    "        f\"query             0 {query} {len(sequence_2)}\\n\"  # Formatted query sequence\n",
    "    )\n",
    "\n",
    "\n",
    "    #pass  # Algorithm implementation goes here\n"
   ],
   "outputs": [],
   "execution_count": 33
  },
  {
   "cell_type": "code",
   "execution_count": null,
   "id": "b4ba25fb",
   "metadata": {},
   "outputs": [],
   "source": []
  },
  {
   "cell_type": "markdown",
   "id": "05fe2aa7-e7c5-4b90-80df-db5ad156033f",
   "metadata": {},
   "source": [
    "## Part 2 - Biopython Implementation\n",
    "\n",
    "For the second part of the assignment, you will use the [Biopython](https://biopython.org/) package to validate your Needleman-Wunsch implementation. In simple terms, you will write a function that calls the Needleman-Wunsch algorithm implemented in the Biopython package. You should use the built-in BLOSUM62 matrix of Biopython."
   ]
  },
  {
   "cell_type": "code",
   "id": "e10acbc7-7d5f-4712-9505-8238db85ec7f",
   "metadata": {
    "ExecuteTime": {
     "end_time": "2024-11-12T17:12:20.780167Z",
     "start_time": "2024-11-12T17:12:20.638603Z"
    }
   },
   "source": "from Bio import Align",
   "outputs": [],
   "execution_count": 2
  },
  {
   "cell_type": "code",
   "id": "e7bb22b9-f879-4cc5-ad50-e6a2ffa01a2a",
   "metadata": {
    "ExecuteTime": {
     "end_time": "2024-11-12T17:12:23.123577Z",
     "start_time": "2024-11-12T17:12:23.116372Z"
    }
   },
   "source": [
    "def biopython_needleman_wunsch_algorithm_linear_penalty(sequence_1, sequence_2, gap_penalty):\n",
    "    \"\"\"\n",
    "    Calls the Needleman-Wunsch pairwise sequence alignment algorithm implemented in the Biopython package\n",
    "    with a linear gap penalty using the BLOSUM62 scoring matrix.\n",
    "\n",
    "    Parameters:\n",
    "    ----------\n",
    "    sequence_1 : str\n",
    "        The first amino acid sequence to be aligned.\n",
    "    sequence_2 : str\n",
    "        The second amino acid sequence to be aligned.\n",
    "    gap_penalty : int or float\n",
    "        The penalty score for introducing a gap in the alignment. This penalty is constant for each gap introduced.\n",
    "\n",
    "    Returns:\n",
    "    -------\n",
    "    tuple\n",
    "        A tuple containing:\n",
    "            - alignment_score (float): The maximum alignment score between the two sequences using the BLOSUM62 matrix.\n",
    "            - alignment (str): A formatted string representation of the optimal alignment where:\n",
    "                - Gaps are represented by '-' symbols.\n",
    "                - Matching amino acids are represented by '|' symbols.\n",
    "                - Mismatches are represented by '.' symbols.\n",
    "\n",
    "    Notes:\n",
    "    -----\n",
    "    - If there are multiple optimal alignments, any one of them may be returned.\n",
    "    - Use the built-in BLOSUM62 matrix of Biopython.\n",
    "    - For the returned tuple use score field and format() function of Bio.Align.PairwiseAligner().align() object of Biopython.\n",
    "    \n",
    "    Example:\n",
    "    --------\n",
    "    input:\n",
    "        sequence_1 = \"PTTEINS\"\n",
    "        sequence_2 = \"PRTWPSEIN\"\n",
    "        gap_penalty = -1\n",
    "        \n",
    "    output:\n",
    "        (\n",
    "        24.0,\n",
    "        \"target            0 P-T--TEINS  7\n",
    "                          0 |-|--.|||- 10\n",
    "        query             0 PRTWPSEIN-  9\"\n",
    "        )\n",
    "    \"\"\"\n",
    "    # Initialize the pairwise alignment object from Biopython\n",
    "    aligner = Align.PairwiseAligner()\n",
    "    aligner.mode = 'global'\n",
    "    \n",
    "    # Load the BLOSUM62 substitution matrix, commonly used for protein sequence alignment\n",
    "    aligner.substitution_matrix = Align.substitution_matrices.load(\"BLOSUM62\")\n",
    "    \n",
    "    # Set the gap opening and extension penalties to the same value for a linear gap penalty model\n",
    "    aligner.open_gap_score = gap_penalty\n",
    "    aligner.extend_gap_score = gap_penalty\n",
    "    \n",
    "    alignments = aligner.align(sequence_1, sequence_2)\n",
    "    best_alignment = alignments[0]\n",
    "    alignment_score = best_alignment.score\n",
    "    \n",
    "    # Format the alignment into a human-readable string, with matches, mismatches, and gaps\n",
    "    formatted_alignment = best_alignment.format()\n",
    "    \n",
    "    # Return the alignment score and the formatted alignment\n",
    "    return alignment_score, formatted_alignment"
   ],
   "outputs": [],
   "execution_count": 3
  },
  {
   "cell_type": "markdown",
   "id": "7495312a-efaa-4c88-9308-4063d5f1f9f1",
   "metadata": {},
   "source": [
    "## Part 3 - Use an Online Tool\n",
    "\n",
    "For the third part, you will find an online tool that applies the Needleman-Wunsch pairwise sequence alignment algorithm. Give a link to the online tool and explain how to use it in 2-3 sentences. "
   ]
  },
  {
   "metadata": {},
   "cell_type": "markdown",
   "source": [
    "A commonly used online tool for the Needleman-Wunsch algorithm is **EMBOSS Needle**:\n",
    "\n",
    "**Link**: [EMBOSS Needle](https://www.ebi.ac.uk/Tools/psa/emboss_needle/)\n",
    "\n",
    "**How to Use**: \n",
    "1. Go to the EMBOSS Needle tool and enter the two sequences you want to align in the provided text boxes (in FASTA format or plain text).\n",
    "2. Choose a scoring matrix (like BLOSUM62) and set the gap penalties if needed.\n",
    "3. Click **Submit** to run the alignment. The output will show the aligned sequences, with scores and indicators for matches, mismatches, and gaps."
   ],
   "id": "9acc426ae3505f16"
  },
  {
   "cell_type": "markdown",
   "id": "alike-enlargement",
   "metadata": {},
   "source": [
    "## Extra\n",
    "\n",
    "You can use the functions below to generate random sample sequences to test your algorithms. "
   ]
  },
  {
   "cell_type": "code",
   "id": "close-founder",
   "metadata": {
    "ExecuteTime": {
     "end_time": "2024-11-12T17:36:37.191952Z",
     "start_time": "2024-11-12T17:36:37.185579Z"
    }
   },
   "source": [
    "import random\n",
    "\n",
    "aminoacids = [\"A\", \"R\", \"N\", \"D\", \"C\", \"Q\", \"E\", \"G\", \"H\", \"I\", \"L\", \"K\", \"M\", \"F\", \"P\", \"S\", \"T\", \"W\", \"Y\", \"V\"]\n",
    "\n",
    "\n",
    "def generate_sequence(length=50):\n",
    "    return \"\".join([random.choice(aminoacids) for i in range(length)])\n",
    "\n",
    "\n",
    "def mutate_sequence(seq, n_mutations=10):\n",
    "    seq = list(seq)\n",
    "    pos = {\n",
    "        random.randint(1, len(seq)): random.choice([\"substitute\", \"delete\"])\n",
    "        for i in range(n_mutations)\n",
    "    }\n",
    "    mutated_sequence = \"\"\n",
    "    for ix, aminoacid in enumerate(seq):\n",
    "        if ix in pos:\n",
    "            if pos[ix] == \"substitute\":\n",
    "                mutated_sequence += random.choice(aminoacids)\n",
    "        else:\n",
    "            mutated_sequence += aminoacid\n",
    "    return mutated_sequence"
   ],
   "outputs": [],
   "execution_count": 6
  },
  {
   "cell_type": "code",
   "id": "e84a18ce",
   "metadata": {
    "ExecuteTime": {
     "end_time": "2024-11-12T18:10:40.455795Z",
     "start_time": "2024-11-12T18:10:40.438342Z"
    }
   },
   "source": [
    "# Generate a random sample sequence\n",
    "sample_sequence = generate_sequence()\n",
    "\n",
    "# Create two mutated versions of the sample sequence for alignment testing\n",
    "sequence1 = mutate_sequence(sample_sequence)\n",
    "sequence2 = mutate_sequence(sample_sequence)\n",
    "\n",
    "# My Needleman-Wunsch implementation\n",
    "# the alignment score (index 0 of the returned tuple)\n",
    "# the formatted alignment (index 1 of the returned tuple)\n",
    "print(\"my function:\\n\", \n",
    "      my_needleman_wunsch_algorithm_linear_penalty(sequence1, sequence2, -1, [])[0], \n",
    "      \"\\n\", \n",
    "      my_needleman_wunsch_algorithm_linear_penalty(sequence1, sequence2, -1, [])[1])\n",
    "\n",
    "# Biopython Needleman-Wunsch implementation\n",
    "# the alignment score (index 0 of the returned tuple)\n",
    "# the formatted alignment (index 1 of the returned tuple)\n",
    "print(\"biopython function:\\n\", \n",
    "      biopython_needleman_wunsch_algorithm_linear_penalty(sequence1, sequence2, -1)[0], \n",
    "      \"\\n\", \n",
    "      biopython_needleman_wunsch_algorithm_linear_penalty(sequence1, sequence2, -1)[1])\n"
   ],
   "outputs": [
    {
     "name": "stdout",
     "output_type": "stream",
     "text": [
      "my function:\n",
      " 197.0 \n",
      " target            0 AGMHQYNQKL-CSQIDTCKASTSCIIMYDTYKHNGNV-PFMQVEG-WCP 46\n",
      "                  0 |||-||||.|-|||||||||.||.|||..|||.||-|-||||||--||| 49\n",
      "query             0 AGM-QYNQNLTCSQIDTCKANTSLIIMTQTYKWNG-VYPFMQVE-YWCP 46\n",
      "\n",
      "biopython function:\n",
      " 197.0 \n",
      " target            0 AGMHQYNQKL-CSQIDTCKASTSCIIMY-DTYKH-NGNV-PFMQVEG-WCP 46\n",
      "                  0 |||-||||.|-|||||||||.||.|||--.|||--||-|-||||||--||| 51\n",
      "query             0 AGM-QYNQNLTCSQIDTCKANTSLIIM-TQTYK-WNG-VYPFMQVE-YWCP 46\n",
      "\n"
     ]
    }
   ],
   "execution_count": 37
  }
 ],
 "metadata": {
  "kernelspec": {
   "display_name": "Python 3 (ipykernel)",
   "language": "python",
   "name": "python3"
  },
  "language_info": {
   "codemirror_mode": {
    "name": "ipython",
    "version": 3
   },
   "file_extension": ".py",
   "mimetype": "text/x-python",
   "name": "python",
   "nbconvert_exporter": "python",
   "pygments_lexer": "ipython3",
   "version": "3.11.5"
  },
  "vscode": {
   "interpreter": {
    "hash": "334e94759777c3da5b8a0d438165f334a0a40238f3139ad4907d9f899d5ca59e"
   }
  }
 },
 "nbformat": 4,
 "nbformat_minor": 5
}
